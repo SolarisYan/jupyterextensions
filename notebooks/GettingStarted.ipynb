{
 "cells": [
  {
   "cell_type": "markdown",
   "metadata": {},
   "source": [
    "<h2>Welcome to Teradata SQL extension for Jupyter </h2>\n",
    "<p>\n",
    "This notebook provides information to help you get started with the Teradata JupyterLab kernel and extensions.  Note that you must add Teradata SQL Engine connections in order to execute SQL statements within your notebook.  \n",
    "    \n",
    "[Visit our landing page for more information and downloads](https://teradata.github.io/jupyterextensions/)\n",
    "<p>\n",
    "<h2>Features</h2>\n",
    "\n",
    "<h3> The SQL Kernel Provides:</h3>\n",
    "<ul>\n",
    "<li>Connection management to add, remove, connect, and list conections</li>\n",
    "<li>Query engine that uses embedded Teradata SQL driver</li>\n",
    "<li>SQL aware notebook with SQL intellisense and syntax checking</li>\n",
    "<li>Result set renderer that displays result data in easy to read, pageable grid</li>\n",
    "<li>Execution history that stores execution metadata to recall SQL commands at a later time</li>\n",
    "<li>Visualization using VegaLite library to display charts, graphs, plots, etc.</li>\n",
    "<li>Magic commands that provide additional custom kernel options to enhance Teradata user experience</li>\n",
    "</ul>\n",
    "The Navigator allows the user to explore the SQL Engine catalog, regardless of the language you are using in your notebook (SQL, Python, R).\n",
    "\n",
    "\n",
    "<h3> The Navigator Provides:</h3>\n",
    "<ul>\n",
    "<li>Hierarchical display of SQL object relational model</li>\n",
    "<li>Column metadata showing data type and indexes</li>\n",
    "<li>Row Count and Column Distribution menu options</li>\n",
    "</ul>\n",
    "\n",
    "<h4>Refer to the GettingStartedDemo notebook for a live example running Teradata SQL kernel magics.</h4>\n"
   ]
  },
  {
   "cell_type": "markdown",
   "metadata": {},
   "source": [
    "<h2>Teradata Navigator</h2>\n",
    "<p>\n",
    "<ul>\n",
    "<li>Launched from JupyterLab Launcher or Commands list</li>\n",
    "<li>Select connection profile (Connection profiles are created using the Teradata SQL Notebook)</li>\n",
    "<li>Column data type metadata provided</li>\n",
    "<li>Right click options available (such as Row Count)</li>\n",
    "</ul>\n"
   ]
  },
  {
   "cell_type": "markdown",
   "metadata": {},
   "source": [
    "***\n",
    "## Teradata SQL Kernel\n",
    "#### A Teradata SQL Notebook can be opened by selecting the Teradata icon on the launcher page"
   ]
  },
  {
   "cell_type": "markdown",
   "metadata": {},
   "source": [
    "***\n",
    "## Magic commands (aka magics)\n",
    "#### The Teradata SQL Kernel supports a set of magics that can be use to perform a variety of operations\n",
    "Full list of magics provided with Teradata SQL Kernel can be seen by entering %help.<br><br>\n",
    "Some magic commands have parameters in the form name=value, name2=value2.<br>\n",
    "In these cases\n",
    "1. the parameter names are not case sensitive\n",
    "2. the values can be quoted with double quotes. Quoting of values is only required if the value contains any of the characters , = \" \\n"
   ]
  },
  {
   "cell_type": "code",
   "execution_count": null,
   "metadata": {},
   "outputs": [],
   "source": [
    "%help"
   ]
  },
  {
   "cell_type": "markdown",
   "metadata": {},
   "source": [
    "#### A list of the \"magics\" without descriptions can be displayed with the %lsmagic command"
   ]
  },
  {
   "cell_type": "code",
   "execution_count": null,
   "metadata": {},
   "outputs": [],
   "source": [
    "%lsmagic"
   ]
  },
  {
   "cell_type": "markdown",
   "metadata": {},
   "source": [
    "#### Help for a specific command can be displayed by adding the command name (without the %)"
   ]
  },
  {
   "cell_type": "code",
   "execution_count": null,
   "metadata": {},
   "outputs": [],
   "source": [
    "%help chart"
   ]
  },
  {
   "cell_type": "markdown",
   "metadata": {},
   "source": [
    "***\n",
    "## Managing Teradata SQL Engine connections\n",
    "\n",
    "Before accessing a Teradata SQL Engine, we need to create a connection.<br>\n",
    "This is a two step process.\n",
    "1. add a new connection definition (%addconnect) (if one does not already exist)\n",
    "2. connect (%connect)\n",
    "***"
   ]
  },
  {
   "cell_type": "markdown",
   "metadata": {},
   "source": [
    "### List existing connections with the %lsconnect command\n"
   ]
  },
  {
   "cell_type": "code",
   "execution_count": null,
   "metadata": {},
   "outputs": [],
   "source": [
    "%lsconnect"
   ]
  },
  {
   "cell_type": "markdown",
   "metadata": {},
   "source": [
    "### Add a new connection with the %addconnect command\n",
    "- **NAME** - the user-assigned name of the connection to be created\n",
    "- **USER** - the user name to log in\n",
    "- **HOST** - the host name or IP address\n",
    "\n",
    "The parameter names are not case sensitive (NAME, name, Name, etc)."
   ]
  },
  {
   "cell_type": "code",
   "execution_count": null,
   "metadata": {},
   "outputs": [],
   "source": [
    "%help addconnect"
   ]
  },
  {
   "cell_type": "markdown",
   "metadata": {},
   "source": [
    "### Make a connection active with the %connect command\n",
    "If already connected, the %connect command will make the specified connection the active connection. No password is required in this case."
   ]
  },
  {
   "cell_type": "code",
   "execution_count": null,
   "metadata": {},
   "outputs": [],
   "source": [
    "%help rmconnect"
   ]
  },
  {
   "cell_type": "markdown",
   "metadata": {},
   "source": [
    "### Connect with the %connect command\n",
    "The connection name is required. The password is required if this connection is not yet connected.\n",
    "If the password is required and is not specified, a password prompt will be displayed to allow the password to be entered in a hidden text field.\n",
    "It is generally more secure not to specify the password on the %connect command because the password will be visible on-screen and will be saved as part of the notebook."
   ]
  },
  {
   "cell_type": "code",
   "execution_count": null,
   "metadata": {},
   "outputs": [],
   "source": [
    "%help connect"
   ]
  },
  {
   "cell_type": "markdown",
   "metadata": {},
   "source": [
    "### Select the Teradata SQL Engine to connect to"
   ]
  },
  {
   "cell_type": "code",
   "execution_count": null,
   "metadata": {},
   "outputs": [],
   "source": [
    "%lsconnect"
   ]
  },
  {
   "cell_type": "code",
   "execution_count": null,
   "metadata": {},
   "outputs": [],
   "source": [
    "%connect teradata-vantage"
   ]
  },
  {
   "cell_type": "markdown",
   "metadata": {},
   "source": [
    "#### When a connection is first established, it will prompt you for the password. It will be shown in the %lsconnect output as '*Connected'\n",
    "***** indicates that this is the active connection (only one connection is **active** at a time, although more that one can be **connected**)"
   ]
  },
  {
   "cell_type": "code",
   "execution_count": null,
   "metadata": {},
   "outputs": [],
   "source": [
    "%lsconnect"
   ]
  },
  {
   "cell_type": "markdown",
   "metadata": {},
   "source": [
    "### Make a connection active with the %connect command\n",
    "If already connected, the %connect command will make the specified connection the active connection. No password is required in this case."
   ]
  },
  {
   "cell_type": "code",
   "execution_count": null,
   "metadata": {},
   "outputs": [],
   "source": [
    "%connect teradata-vantage"
   ]
  },
  {
   "cell_type": "code",
   "execution_count": null,
   "metadata": {},
   "outputs": [],
   "source": [
    "%lsconnect"
   ]
  },
  {
   "cell_type": "markdown",
   "metadata": {},
   "source": [
    "### Disconnect with the %disconnect command"
   ]
  },
  {
   "cell_type": "code",
   "execution_count": null,
   "metadata": {},
   "outputs": [],
   "source": [
    "%disconnect teradata-vantage"
   ]
  },
  {
   "cell_type": "code",
   "execution_count": null,
   "metadata": {},
   "outputs": [],
   "source": [
    "%lsconnect"
   ]
  },
  {
   "cell_type": "markdown",
   "metadata": {},
   "source": [
    "***\n",
    "## Executing SQL"
   ]
  },
  {
   "cell_type": "markdown",
   "metadata": {},
   "source": [
    "### To execute SQL, simply enter the SQL in a cell and execute the cell (shift-enter or the run button in the toolbar)\n",
    "#### The active connection will be used to run the SQL. Query results (if any) will be displayed in a table.\n",
    "#### Hitting the Tab key provides intellisense, for example the list of databases, tables, available.  This query is just an example, you'll need to specify one that will run on your selected connection."
   ]
  },
  {
   "cell_type": "code",
   "execution_count": null,
   "metadata": {},
   "outputs": [],
   "source": [
    "select top 25 * from dataTest.test1;"
   ]
  },
  {
   "cell_type": "markdown",
   "metadata": {},
   "source": [
    "### The result of SQL statements that do not return a result set is summarized in the output cell."
   ]
  },
  {
   "cell_type": "code",
   "execution_count": null,
   "metadata": {},
   "outputs": [],
   "source": [
    "update dataTest.test1 set ch_val = 'm' where ch_val = 'x';"
   ]
  },
  {
   "cell_type": "markdown",
   "metadata": {},
   "source": [
    "### Errors are also shown in the output cell"
   ]
  },
  {
   "cell_type": "code",
   "execution_count": null,
   "metadata": {},
   "outputs": [],
   "source": [
    "select * from NonExistentTable;"
   ]
  },
  {
   "cell_type": "markdown",
   "metadata": {},
   "source": [
    "### Execute SQL on a specific connection (not necessarily the active connection) with the %%connect cell magic command\n",
    "#### Follow the %%connect command with SQL in the same cell"
   ]
  },
  {
   "cell_type": "code",
   "execution_count": null,
   "metadata": {},
   "outputs": [],
   "source": [
    "%%connect teradata-vantage\n",
    "select top 25 * from dataTest.test1; "
   ]
  },
  {
   "cell_type": "markdown",
   "metadata": {},
   "source": [
    "#### The %%connect cell magic only specifies the connnection to use for the SQL in the same cell; it will not change the active connection"
   ]
  },
  {
   "cell_type": "code",
   "execution_count": null,
   "metadata": {},
   "outputs": [],
   "source": [
    "%lsconnect"
   ]
  },
  {
   "cell_type": "markdown",
   "metadata": {},
   "source": [
    "***\n",
    "## History"
   ]
  },
  {
   "cell_type": "markdown",
   "metadata": {},
   "source": [
    "### List the history of SQL commands executed with the %history command"
   ]
  },
  {
   "cell_type": "code",
   "execution_count": null,
   "metadata": {},
   "outputs": [],
   "source": [
    "%help history"
   ]
  },
  {
   "cell_type": "code",
   "execution_count": null,
   "metadata": {},
   "outputs": [],
   "source": [
    "%history"
   ]
  },
  {
   "cell_type": "markdown",
   "metadata": {},
   "source": [
    "- **HistID** column is the sequential id of each history item\n",
    "- **ResultSetID** column is the id of the result set produced by the SQL in this history item<br>\n",
    "  If the SQL produced a result set, the result set id will be enclosed in <><br>\n",
    "  If no result set was produced (error, or SQL that does not return results) the result set id is not enclosed in <> and represents just a timestamp\n",
    "- **ConnID** column is the name of the connection this SQL was executed on\n",
    "- **SQL** column is the SQL that was executed"
   ]
  },
  {
   "cell_type": "markdown",
   "metadata": {},
   "source": [
    "### By default the most recent 20 items will be displayed\n",
    "#### The **limit** can be specified to change the numbe of items displayed."
   ]
  },
  {
   "cell_type": "code",
   "execution_count": null,
   "metadata": {},
   "outputs": [],
   "source": [
    "%history 5"
   ]
  },
  {
   "cell_type": "markdown",
   "metadata": {},
   "source": [
    "#### **Start** can be specified to change the history id to display from."
   ]
  },
  {
   "cell_type": "code",
   "execution_count": null,
   "metadata": {},
   "outputs": [],
   "source": [
    "%history 5,3"
   ]
  },
  {
   "cell_type": "markdown",
   "metadata": {},
   "source": [
    "***\n",
    "## Visualization"
   ]
  },
  {
   "cell_type": "markdown",
   "metadata": {},
   "source": [
    "### The %chart command is used to produce a graphical visualization of SQL query result sets\n",
    "#### The %chart command produces and displays a __[Vega-lite](https://vega.github.io/vega-lite/)__ specification using the specified parameters and a result set as input"
   ]
  },
  {
   "cell_type": "code",
   "execution_count": null,
   "metadata": {},
   "outputs": [],
   "source": [
    "%help chart"
   ]
  },
  {
   "cell_type": "markdown",
   "metadata": {},
   "source": [
    "- **x** and **y** - represent the x and y axes of the graph. These valuse must be specified.\n",
    "- **title** - the title displayed above the chart (optional)\n",
    "- **id** - the history id or result set id to use as input (most recently accessed if not specified)\n",
    "- **labelx** - the label of the x axis (default is the x column name)\n",
    "- **labely** - the label of the y axis (default is the y column name)\n",
    "- **gridx** - whether to show grid lines for the x axis (default is true)\n",
    "- **gridy** - whether to show grid lines for the y axis (default is true)\n",
    "- **mark** - the type of chart to show (bar, line, area, point, rect, square, text, tick) (default is bar)\n",
    "- **typex** and **typey** - the data type of the x and y axes __[(see the vega-lite specification)](https://vega.github.io/vega-lite/docs/type.html)__\n",
    "    - q=quantitative - represents quatity values - generally numeric values\n",
    "    - n=nominal - categorical data values based only on their names or categories. E.g., gender, nationality, music genre.\n",
    "    - o=ordinal - represents ranked order (1st, 2nd, …) by which the data can be sorted. There is no notion of relative degree of difference between values\n",
    "    - t=temporal - time and date/time values\n",
    "    - default types are assigned based on the column data types\n",
    "        - numeric types -> quantitative\n",
    "        - time times -> temporal\n",
    "        - other types -> nominal\n"
   ]
  },
  {
   "cell_type": "markdown",
   "metadata": {},
   "source": [
    "### Execute a query, this is just an example"
   ]
  },
  {
   "cell_type": "code",
   "execution_count": null,
   "metadata": {},
   "outputs": [],
   "source": [
    "select top 25 * from appcenter_user.member_details"
   ]
  },
  {
   "cell_type": "markdown",
   "metadata": {},
   "source": [
    "#### By default %chart uses the most recently accessed result set as input\n",
    "#### In this case the result set in the cell above will be used.\n",
    "Note that all fields in this table are defined as text fields, so **typey=q** is required to cause a column to be interpreted as quantitative (numeric).<br>"
   ]
  },
  {
   "cell_type": "code",
   "execution_count": null,
   "metadata": {},
   "outputs": [],
   "source": [
    "%chart x=id, y=amount, typey=q"
   ]
  },
  {
   "cell_type": "markdown",
   "metadata": {},
   "source": [
    "#### The type of chart can be changed by specifying the **mark**"
   ]
  },
  {
   "cell_type": "markdown",
   "metadata": {},
   "source": [
    "#### Changing a few more parameters"
   ]
  },
  {
   "cell_type": "markdown",
   "metadata": {},
   "source": [
    "### Visualizing other result sets\n",
    "#### The %chart command can also be used to visualized an older result set by specifying the **id** parameter as a **history id** or a **result set id**"
   ]
  },
  {
   "cell_type": "markdown",
   "metadata": {},
   "source": [
    "#### **history id** is a numeric value"
   ]
  },
  {
   "cell_type": "markdown",
   "metadata": {},
   "source": [
    "***\n",
    "## Display previous result set with the %table command\n",
    "#### Like the %chart command, the %table command can be used to show a previous result set based on **history id** or **result set id**"
   ]
  },
  {
   "cell_type": "code",
   "execution_count": null,
   "metadata": {},
   "outputs": [],
   "source": [
    "%history"
   ]
  },
  {
   "cell_type": "code",
   "execution_count": null,
   "metadata": {},
   "outputs": [],
   "source": [
    "%table 9"
   ]
  },
  {
   "cell_type": "markdown",
   "metadata": {},
   "source": [
    "***\n",
    "## Sharing Result Sets\n",
    "#### Teradata result sets can easily be use in another type of notebook (e.g. Python or R)\n",
    "Result sets are store under the Teradata/ResultSets directory that is created in the JupterLab working directory (the directory in which 'juptyer lab' command is executed).\n",
    "Under the TeradataResultSets directory is a set of directories named with a timestamp (e.g. 2018.04.25_13.37.30.129_PDT). Each of these directories contains a single result set. Within a result set directory are two types of JSON files. The file named 00000.json is the result set metadata. It defines the data types of each column in the result set as well as some general infomation. The other files are named 00001.json, 00002.json, etc. These are result set chunk files. Each of these file contains part of the result set data. Only large result sets will be split into multiple parts; many will be contained in a single 00001.json file.<br><br>\n",
    "These chunk files contain a JSON formatted array of JSON objects (name-value pair lists).<br>\n",
    "For example:<br>\n",
    "```\n",
    "[\n",
    "  {\n",
    "    \"Area_Name\": \"NEWJERSEY\",\n",
    "    \"Area_id\": \"090000077\",\n",
    "    \"Country_cd\": \"USA\",\n",
    "    \"Division_id\": \"080000075\"\n",
    "  },\n",
    "  {\n",
    "    \"Area_Name\": \"PANHANDLEAREA\",\n",
    "    \"Area_id\": \"090000043\",\n",
    "    \"Country_cd\": \"USA\",\n",
    "    \"Division_id\": \"032226524\"\n",
    "  },\n",
    "  {\n",
    "    \"Area_Name\": \"TENESSEEAREA\",\n",
    "    \"Area_id\": \"090000062\",\n",
    "    \"Country_cd\": \"USA\",\n",
    "    \"Division_id\": \"039461986\"\n",
    "  }\n",
    "]```\n",
    "\n",
    "#### The easiest way to use a Teradata result set is to click the \"Copy Result Set Path\" button at the top of each result set table.\n",
    "\n",
    "The \"Copy Result Set Path\" button will copy the displayed result set path to the clipboard. This value can then be pasted into a cell of another notebook to load the result set into that notebook.<br><br>To load a result set from a table into a Python Pandas dataframe,\n",
    "\n",
    "1. run a SQL query or use the %table command\n",
    "1. click the \"Copy Result Set Path\" button above the displayed table\n",
    "1. paste the result set path into a Python notebook using the command **pd.read_json(\"<ResultSetPath>\")**<br>\n",
    "   for example:<br><br>\n",
    "```\n",
    "import pandas as pd\n",
    "df = pd.read_json(\"/root/JupyterLabHome/TeradataResultsets/2018.04.25_13.37.30.129_PDT/00001.json\")\n",
    "df\n",
    "```"
   ]
  },
  {
   "cell_type": "markdown",
   "metadata": {},
   "source": [
    "***\n",
    "# Teradata SQL Syntax coloring\n",
    "<ul>\n",
    "<li>Includes Keywords, UnreservedKeywords, BuiltinFunctions, Functuations</li>\n",
    "</ul>"
   ]
  },
  {
   "cell_type": "code",
   "execution_count": null,
   "metadata": {},
   "outputs": [],
   "source": [
    "alter and date timestamp tinyblob begin teradata\n",
    "--dbc\n",
    "/*\n",
    "dbc\n",
    "*/\n",
    "\n",
    "SELECT * FROm attribtion (\n",
    "    \n",
    " ON యూనికోడ  AS INPUT  PARTITION BY 用户�?? OrDER BY time_stamp\n",
    " ON conversion_event_table AS convOFersion DIMENSION \n",
    " ON optional_event_table AS optional DIMENSION \n",
    " ON आदर�?श  AS model1 DIMENSION\n",
    " ON model2_table_fun2 AS model2 DIMENSION\n",
    " USING \n",
    " EVENT_COLUMN_NAOOME('ঘটনা')\n",
    " TIMESTAMP_COLUMN_NAME('time_stamp') \n",
    " WINDOW('rows:10&seconds:20') \n",
    ")ORDER By 用户�??, time_stamp;\n",
    "\n",
    "select ARRAY_EQ ACCORDING && || + - / * $ % ^ & & "
   ]
  },
  {
   "cell_type": "markdown",
   "metadata": {},
   "source": [
    "***\n",
    "# Teradata Syntax Checking\n",
    "<ul>\n",
    "<li>Provides Syntax Checking to validate sql.  Type shift+Tab to run syntax checking on cell contents.</li>\n",
    "</ul>"
   ]
  },
  {
   "cell_type": "markdown",
   "metadata": {},
   "source": [
    "***\n",
    "# Teradata Intellisense\n",
    "<ul>\n",
    "<li>Provide Data Dictionary objects and Parser results</li>\n",
    "<li>Colored types are provided for easy distinction</li>\n",
    "<li>Type Tab key within cell to launch intellisense</li>\n",
    "</ul>"
   ]
  },
  {
   "cell_type": "markdown",
   "metadata": {},
   "source": [
    "***\n",
    "## Displaying Python and R Version Information\n",
    "The <b>%pyinfo</b> and <b>%rinfo</b> commands will display information about the version of Python and R and the addtional modules that are installed on the actively connected <b>Teradata Vantage</b>. If the module parameter is specified for either of the commands, the list of modules will show only the installed modules whose names start with the parameter value. The commands will only be successful if the actively connected <b>Teradata Vantage</b> has R or Python installed."
   ]
  },
  {
   "cell_type": "code",
   "execution_count": null,
   "metadata": {},
   "outputs": [],
   "source": [
    "%connect teradata-vantage"
   ]
  },
  {
   "cell_type": "code",
   "execution_count": null,
   "metadata": {},
   "outputs": [],
   "source": [
    "%rinfo"
   ]
  },
  {
   "cell_type": "code",
   "execution_count": null,
   "metadata": {},
   "outputs": [],
   "source": [
    "%pyinfo"
   ]
  },
  {
   "cell_type": "markdown",
   "metadata": {},
   "source": [
    "<h4> Not done yet? Refer to the GettingStartedDemo notebook for a live example using the Teradata SQL notebook.</h4>"
   ]
  },
  {
   "cell_type": "markdown",
   "metadata": {},
   "source": [
    "Copyright 2018 Teradata. All rights reserved."
   ]
  }
 ],
 "metadata": {
  "kernelspec": {
   "display_name": "Teradata SQL",
   "language": "Teradata SQL",
   "name": "teradatasql"
  },
  "language_info": {
   "codemirror_mode": "Teradata SQL",
   "file_extension": ".tdrs",
   "mimetype": "application/vnd.teradata.resultset",
   "name": "Teradata SQL",
   "nbconvert_exporter": "",
   "pygments_lexer": "",
   "version": "16.20"
  }
 },
 "nbformat": 4,
 "nbformat_minor": 2
}
